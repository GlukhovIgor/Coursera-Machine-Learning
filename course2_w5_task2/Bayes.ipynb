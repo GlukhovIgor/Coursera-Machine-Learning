{
 "cells": [
  {
   "cell_type": "code",
   "execution_count": 1,
   "metadata": {},
   "outputs": [],
   "source": [
    "from sklearn import datasets\n",
    "from sklearn.model_selection import train_test_split, cross_val_score\n",
    "\n",
    "(X_digits, y_digits) = datasets.load_digits(return_X_y=True)\n",
    "(X_cancer, y_cancer) = datasets.load_breast_cancer(return_X_y=True)"
   ]
  },
  {
   "cell_type": "code",
   "execution_count": 9,
   "metadata": {},
   "outputs": [
    {
     "name": "stdout",
     "output_type": "stream",
     "text": [
      "[[  0.   0.   5.  13.   9.   1.   0.   0.   0.   0.  13.  15.  10.  15.\n",
      "    5.   0.   0.   3.  15.   2.   0.  11.   8.   0.   0.   4.  12.   0.\n",
      "    0.   8.   8.   0.   0.   5.   8.   0.   0.   9.   8.   0.   0.   4.\n",
      "   11.   0.   1.  12.   7.   0.   0.   2.  14.   5.  10.  12.   0.   0.\n",
      "    0.   0.   6.  13.  10.   0.   0.   0.]]\n",
      "[[  1.79900000e+01   1.03800000e+01   1.22800000e+02   1.00100000e+03\n",
      "    1.18400000e-01   2.77600000e-01   3.00100000e-01   1.47100000e-01\n",
      "    2.41900000e-01   7.87100000e-02   1.09500000e+00   9.05300000e-01\n",
      "    8.58900000e+00   1.53400000e+02   6.39900000e-03   4.90400000e-02\n",
      "    5.37300000e-02   1.58700000e-02   3.00300000e-02   6.19300000e-03\n",
      "    2.53800000e+01   1.73300000e+01   1.84600000e+02   2.01900000e+03\n",
      "    1.62200000e-01   6.65600000e-01   7.11900000e-01   2.65400000e-01\n",
      "    4.60100000e-01   1.18900000e-01]]\n"
     ]
    }
   ],
   "source": [
    "print X_digits[:1]\n",
    "print X_cancer[:1]"
   ]
  },
  {
   "cell_type": "code",
   "execution_count": 12,
   "metadata": {},
   "outputs": [
    {
     "name": "stdout",
     "output_type": "stream",
     "text": [
      "0.831855746495\n",
      "0.88193962163\n",
      "0.810353758357\n"
     ]
    }
   ],
   "source": [
    "from sklearn.naive_bayes import BernoulliNB, MultinomialNB, GaussianNB\n",
    "brn = BernoulliNB()\n",
    "mul = MultinomialNB()\n",
    "gauss = GaussianNB()\n",
    "score_brn = cross_val_score(brn, X_digits, y_digits, cv=10, n_jobs=-1)\n",
    "score_mul = cross_val_score(mul, X_digits, y_digits, cv=10, n_jobs=-1)\n",
    "score_gauss = cross_val_score(gauss, X_digits, y_digits, cv=10, n_jobs=-1)\n",
    "print score_brn.mean()\n",
    "print score_mul.mean()\n",
    "print score_gauss.mean()\n",
    "with open(\"bayes_2.txt\", \"w\") as fout:\n",
    "    fout.write(str(score_mul.mean()))"
   ]
  },
  {
   "cell_type": "code",
   "execution_count": 13,
   "metadata": {},
   "outputs": [
    {
     "name": "stdout",
     "output_type": "stream",
     "text": [
      "0.627427404719\n",
      "0.892934923516\n",
      "0.938679673321\n"
     ]
    }
   ],
   "source": [
    "score_brn = cross_val_score(brn, X_cancer, y_cancer, cv=10, n_jobs=-1)\n",
    "score_mul = cross_val_score(mul, X_cancer, y_cancer, cv=10, n_jobs=-1)\n",
    "score_gauss = cross_val_score(gauss, X_cancer, y_cancer, cv=10, n_jobs=-1)\n",
    "print score_brn.mean()\n",
    "print score_mul.mean()\n",
    "print score_gauss.mean()\n",
    "with open(\"bayes_1.txt\", \"w\") as fout:\n",
    "    fout.write(str(score_gauss.mean()))"
   ]
  },
  {
   "cell_type": "code",
   "execution_count": null,
   "metadata": {},
   "outputs": [],
   "source": []
  }
 ],
 "metadata": {
  "kernelspec": {
   "display_name": "Python 2",
   "language": "python",
   "name": "python2"
  },
  "language_info": {
   "codemirror_mode": {
    "name": "ipython",
    "version": 2
   },
   "file_extension": ".py",
   "mimetype": "text/x-python",
   "name": "python",
   "nbconvert_exporter": "python",
   "pygments_lexer": "ipython2",
   "version": "2.7.16"
  }
 },
 "nbformat": 4,
 "nbformat_minor": 2
}
