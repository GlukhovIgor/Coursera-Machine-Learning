{
 "cells": [
  {
   "cell_type": "code",
   "execution_count": 32,
   "metadata": {},
   "outputs": [],
   "source": [
    "from sklearn import datasets\n",
    "import numpy as np\n",
    "(X, y) = datasets.load_digits(return_X_y=True)\n",
    "X_train, X_test, y_train, y_test = (X[:int(0.75*len(X))], X[int(0.75*len(X)):], y[:int(0.75*len(X))], y[int(0.75*len(X)):])"
   ]
  },
  {
   "cell_type": "code",
   "execution_count": 13,
   "metadata": {},
   "outputs": [
    {
     "name": "stdout",
     "output_type": "stream",
     "text": [
      "(450L, 64L)\n",
      "(450L,)\n"
     ]
    }
   ],
   "source": [
    "print X_test.shape\n",
    "print y_test.shape"
   ]
  },
  {
   "cell_type": "code",
   "execution_count": 30,
   "metadata": {},
   "outputs": [],
   "source": [
    "def dist(a, b):\n",
    "    return sum((np.array(a) - np.array(b))**2)"
   ]
  },
  {
   "cell_type": "code",
   "execution_count": 43,
   "metadata": {},
   "outputs": [],
   "source": [
    "def predict(x_test, X, y):\n",
    "    min_dist = dist(x_test, X[0])\n",
    "    min_ind = 0\n",
    "    for i in range(1, len(X)):\n",
    "        d = dist(x_test, X[i])\n",
    "        if d < min_dist:\n",
    "            min_dist = d\n",
    "            min_ind = i\n",
    "    return y[min_ind]"
   ]
  },
  {
   "cell_type": "code",
   "execution_count": 63,
   "metadata": {},
   "outputs": [],
   "source": [
    "predicted = list()\n",
    "for x in X_test:\n",
    "    predicted.append(predict(x, X_train, y_train))"
   ]
  },
  {
   "cell_type": "code",
   "execution_count": 74,
   "metadata": {},
   "outputs": [
    {
     "name": "stdout",
     "output_type": "stream",
     "text": [
      "0.0377777777778\n"
     ]
    }
   ],
   "source": [
    "def score(y_test, predicted):\n",
    "    sum = 0.0\n",
    "    for i in range(len(y_test)):\n",
    "        if y_test[i] != predicted[i]:\n",
    "            sum += 1\n",
    "    return sum / (len(y_test) + 0.0)\n",
    "\n",
    "print score(y_test, predicted)\n",
    "with open(\"1nn_rf_1.txt\", \"w\") as fout:\n",
    "    fout.write(str(score(y_test, predicted)))"
   ]
  },
  {
   "cell_type": "code",
   "execution_count": 72,
   "metadata": {},
   "outputs": [],
   "source": [
    "from sklearn.ensemble import RandomForestClassifier\n",
    "\n",
    "clf = RandomForestClassifier(n_estimators = 1000)\n",
    "clf.fit(X_train, y_train)\n",
    "predicted_forest = clf.predict(X_test)"
   ]
  },
  {
   "cell_type": "code",
   "execution_count": 75,
   "metadata": {},
   "outputs": [
    {
     "name": "stdout",
     "output_type": "stream",
     "text": [
      "0.0688888888889\n"
     ]
    }
   ],
   "source": [
    "print score(y_test, predicted_forest)\n",
    "with open(\"1nn_rf_2.txt\", \"w\") as fout:\n",
    "    fout.write(str(score(y_test, predicted_forest)))"
   ]
  },
  {
   "cell_type": "code",
   "execution_count": null,
   "metadata": {},
   "outputs": [],
   "source": []
  }
 ],
 "metadata": {
  "kernelspec": {
   "display_name": "Python 2",
   "language": "python",
   "name": "python2"
  },
  "language_info": {
   "codemirror_mode": {
    "name": "ipython",
    "version": 2
   },
   "file_extension": ".py",
   "mimetype": "text/x-python",
   "name": "python",
   "nbconvert_exporter": "python",
   "pygments_lexer": "ipython2",
   "version": "2.7.16"
  }
 },
 "nbformat": 4,
 "nbformat_minor": 2
}
