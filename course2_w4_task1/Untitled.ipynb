{
 "cells": [
  {
   "cell_type": "code",
   "execution_count": 8,
   "metadata": {},
   "outputs": [],
   "source": [
    "from sklearn import datasets, model_selection\n",
    "\n",
    "digits = datasets.load_digits()"
   ]
  },
  {
   "cell_type": "code",
   "execution_count": 9,
   "metadata": {},
   "outputs": [],
   "source": [
    "X = digits.data\n",
    "y = digits.target"
   ]
  },
  {
   "cell_type": "code",
   "execution_count": 32,
   "metadata": {},
   "outputs": [
    {
     "name": "stdout",
     "output_type": "stream",
     "text": [
      "0.833096096957\n"
     ]
    }
   ],
   "source": [
    "# 1\n",
    "from sklearn.tree import DecisionTreeClassifier\n",
    "clf = tree.DecisionTreeClassifier()\n",
    "cv_score1 = model_selection.cross_val_score(clf, X, y, cv=10, n_jobs=-1)\n",
    "print cv_score1.mean()\n",
    "with open(\"rt1.txt\", \"w\") as fout:\n",
    "    fout.write(str(cv_score1.mean()))"
   ]
  },
  {
   "cell_type": "code",
   "execution_count": 33,
   "metadata": {},
   "outputs": [
    {
     "name": "stdout",
     "output_type": "stream",
     "text": [
      "0.921585039016\n"
     ]
    }
   ],
   "source": [
    "# 2\n",
    "from sklearn.ensemble import BaggingClassifier\n",
    "bagging_clf = BaggingClassifier(clf, n_estimators = 100)\n",
    "cv_score2 = model_selection.cross_val_score(bagging_clf, X, y, cv=10, n_jobs=-1)\n",
    "print cv_score2.mean()\n",
    "with open(\"rt2.txt\", \"w\") as fout:\n",
    "    fout.write(str(cv_score2.mean()))"
   ]
  },
  {
   "cell_type": "code",
   "execution_count": 34,
   "metadata": {},
   "outputs": [
    {
     "name": "stdout",
     "output_type": "stream",
     "text": [
      "0.93373148885\n"
     ]
    }
   ],
   "source": [
    "bagging_clf2 = BaggingClassifier(clf, n_estimators = 100, max_features=int(X.shape[1]**0.5))\n",
    "cv_score3 = model_selection.cross_val_score(bagging_clf2, X, y, cv=10, n_jobs=-1)\n",
    "print cv_score3.mean()\n",
    "with open(\"rt3.txt\", \"w\") as fout:\n",
    "    fout.write(str(cv_score3.mean()))"
   ]
  },
  {
   "cell_type": "code",
   "execution_count": 35,
   "metadata": {},
   "outputs": [
    {
     "name": "stdout",
     "output_type": "stream",
     "text": [
      "0.952273868433\n"
     ]
    }
   ],
   "source": [
    "clf3 = tree.DecisionTreeClassifier(max_features=int(X.shape[1]**0.5))\n",
    "bagging_clf3 = BaggingClassifier(clf3, n_estimators = 100)\n",
    "cv_score4 = model_selection.cross_val_score(bagging_clf3, X, y, cv=10, n_jobs=-1)\n",
    "print cv_score4.mean()\n",
    "with open(\"rt4.txt\", \"w\") as fout:\n",
    "    fout.write(str(cv_score4.mean()))"
   ]
  },
  {
   "cell_type": "code",
   "execution_count": 36,
   "metadata": {},
   "outputs": [
    {
     "name": "stdout",
     "output_type": "stream",
     "text": [
      "0.935024653031\n"
     ]
    }
   ],
   "source": [
    "from sklearn.ensemble import RandomForestClassifier\n",
    "rf_clf = RandomForestClassifier(max_features=50, n_estimators = 50, max_depth = 10)\n",
    "cv_score5 = model_selection.cross_val_score(rf_clf, X, y, cv=10, n_jobs=-1)\n",
    "print cv_score5.mean()"
   ]
  },
  {
   "cell_type": "code",
   "execution_count": null,
   "metadata": {},
   "outputs": [],
   "source": []
  }
 ],
 "metadata": {
  "kernelspec": {
   "display_name": "Python 2",
   "language": "python",
   "name": "python2"
  },
  "language_info": {
   "codemirror_mode": {
    "name": "ipython",
    "version": 2
   },
   "file_extension": ".py",
   "mimetype": "text/x-python",
   "name": "python",
   "nbconvert_exporter": "python",
   "pygments_lexer": "ipython2",
   "version": "2.7.16"
  }
 },
 "nbformat": 4,
 "nbformat_minor": 2
}
